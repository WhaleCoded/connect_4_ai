{
 "cells": [
  {
   "cell_type": "code",
   "execution_count": null,
   "metadata": {},
   "outputs": [],
   "source": [
    "class ConnectMaster(torch.nn.Module):\n",
    "\n",
    "    def __init__(self):\n",
    "        super(ConnectMaster, self).__init__()\n",
    "\n",
    "        self.flatten = torch.nn.Flatten()\n",
    "        self.linear1 = torch.nn.Linear(BOARD_HEIGHT*BOARD_WIDTH, 300)\n",
    "        self.activation = torch.nn.ReLU()\n",
    "        self.linear2 = torch.nn.Linear(300, 640)\n",
    "        self.activation1 = torch.nn.ReLU()\n",
    "        self.linear3 = torch.nn.Linear(640, 1280)\n",
    "        self.activation2 = torch.nn.ReLU()\n",
    "        self.linear4 = torch.nn.Linear(1280, 640)\n",
    "        self.activation3 = torch.nn.ReLU()\n",
    "        self.linear5 = torch.nn.Linear(640, 300)\n",
    "        self.activation4 = torch.nn.ReLU()\n",
    "        self.linear6 = torch.nn.Linear(300, BOARD_WIDTH)\n",
    "\n",
    "    def forward(self, x):\n",
    "        x = self.flatten(x)\n",
    "        x = self.linear1(x)\n",
    "        x = self.activation(x)\n",
    "        x = self.linear2(x)\n",
    "        x = self.activation1(x)\n",
    "        x = self.linear3(x)\n",
    "        x = self.activation2(x)\n",
    "        x = self.linear4(x)\n",
    "        x = self.activation3(x)\n",
    "        x = self.linear5(x)\n",
    "        x = self.activation4(x)\n",
    "        x = self.linear6(x)\n",
    "        return x"
   ]
  }
 ],
 "metadata": {
  "kernelspec": {
   "display_name": "Python 3.8.10 64-bit",
   "language": "python",
   "name": "python3"
  },
  "language_info": {
   "name": "python",
   "version": "3.8.10"
  },
  "orig_nbformat": 4,
  "vscode": {
   "interpreter": {
    "hash": "916dbcbb3f70747c44a77c7bcd40155683ae19c65e1c03b4aa3499c5328201f1"
   }
  }
 },
 "nbformat": 4,
 "nbformat_minor": 2
}
